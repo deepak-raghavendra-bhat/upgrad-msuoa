{
 "cells": [
  {
   "cell_type": "markdown",
   "id": "b9547a28",
   "metadata": {},
   "source": [
    "Binary Search\n",
    "Description\n",
    "You heard Sajan talk about a faster search method when the list we have is sorted. This is a much faster approach as the data you will normally deal with will have tens of thousands of entries, having a search algorithm what is faster will save a lot of computation power and will be faster.\n",
    "You can try your code here.\n",
    "\n",
    "----------------------------------------------------------------------\n",
    "Input:\n",
    "Two lines of input will be provided. The first line will have a sorted list with no repeated values, while the second line will have a key whose occurrence you have to find in the list.\n",
    "\n",
    "Output:\n",
    "Index of the key in the given list if it is present, else -1.\n",
    "\n",
    "----------------------------------------------------------------------\n",
    "Sample input:\n",
    "[3, 5, 7, 9, 11, 13, 15, 17, 19, 21, 23, 25, 27]\n",
    "17\n",
    "\n",
    "Sample output:\n",
    "7\n",
    "\n",
    "----------------------------------------------------------------------\n",
    "Sample input:\n",
    "[3, 5, 7, 9, 11, 13, 15, 17, 19, 21, 23, 25, 27]\n",
    "1\n",
    "\n",
    "Sample output:\n",
    "-1\n",
    "Execution Time Limit\n",
    "10 seconds"
   ]
  },
  {
   "cell_type": "code",
   "execution_count": null,
   "id": "2e3b0728",
   "metadata": {},
   "outputs": [],
   "source": [
    "import ast,sys\n",
    "sorted_list = ast.literal_eval(input())\n",
    "key=ast.literal_eval(input())\n",
    "\n",
    "def binarySearch(sorted_list, l, r, key):\n",
    " \n",
    "    while l <= r:\n",
    " \n",
    "        mid = l + (r - l) // 2\n",
    " \n",
    "        # Check if key is present at mid\n",
    "        if sorted_list[mid] == key:\n",
    "            return mid\n",
    " \n",
    "        # If key is greater, ignore left half\n",
    "        elif sorted_list[mid] < key:\n",
    "            l = mid + 1\n",
    " \n",
    "        # If key is smaller, ignore right half\n",
    "        else:\n",
    "            r = mid - 1\n",
    " \n",
    "    # element not present\n",
    "    return -1\n",
    "\n",
    " \n",
    "# Function call\n",
    "result = binarySearch(sorted_list, 0, len(sorted_list)-1, key)\n",
    "print(result)\n"
   ]
  }
 ],
 "metadata": {
  "kernelspec": {
   "display_name": "Python 3 (ipykernel)",
   "language": "python",
   "name": "python3"
  },
  "language_info": {
   "codemirror_mode": {
    "name": "ipython",
    "version": 3
   },
   "file_extension": ".py",
   "mimetype": "text/x-python",
   "name": "python",
   "nbconvert_exporter": "python",
   "pygments_lexer": "ipython3",
   "version": "3.9.13"
  }
 },
 "nbformat": 4,
 "nbformat_minor": 5
}
