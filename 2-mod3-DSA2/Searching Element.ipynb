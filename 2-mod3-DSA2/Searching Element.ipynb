{
 "cells": [
  {
   "cell_type": "markdown",
   "id": "35b5434c",
   "metadata": {},
   "source": [
    "Description\n",
    "Searching a particular data entry from a big chunk a task you will encounter frequently.  In this question, you will be given a list of integers and a key element that you will have to find in the list. You will return the index or location of the key in the list or -1 if it is not present.\n",
    "\n",
    "----------------------------------------------------------------------\n",
    "Input:\n",
    "Two lines of input. The first line contains a list of integers, the second line contains an integer key that you have to find in the list\n",
    "\n",
    "Output:\n",
    "The index of the first occurrence of the key in the provided list, if it is present, and -1 otherwise.\n",
    "\n",
    "----------------------------------------------------------------------\n",
    "Sample input:\n",
    "[1, 2, 4, 2, 3, 2, 3, 3, 6, 7]\n",
    "3\n",
    "\n",
    "Sample output:\n",
    "4\n",
    "\n",
    "Explanation:\n",
    "The first occurrence of the key 3 is at index 4.\n",
    "\n",
    "----------------------------------------------------------------------\n",
    "Sample input:\n",
    "[1, 2, 3, 4, 5, 6]\n",
    "10\n",
    "\n",
    "Sample output:\n",
    "-1\n",
    "\n",
    "Explanation:\n",
    "Since 10 is not present in the given list, the output is -1\n",
    "Execution Time Limit\n",
    "10 seconds"
   ]
  },
  {
   "cell_type": "code",
   "execution_count": 10,
   "id": "2557946f",
   "metadata": {},
   "outputs": [
    {
     "name": "stdout",
     "output_type": "stream",
     "text": [
      "-1\n"
     ]
    }
   ],
   "source": [
    "list1 = [1, 2, 4, 2, 3, 2, 3, 3, 6, 7]\n",
    "k = 9\n",
    "def search_elem(list1,k):\n",
    "    for i in range(0,len(list1)):\n",
    "        if list1[i] == k:\n",
    "            return i\n",
    "ret = search_elem(list1,k)\n",
    "if ret:\n",
    "    print(ret)\n",
    "else:\n",
    "    print(-1)"
   ]
  },
  {
   "cell_type": "code",
   "execution_count": null,
   "id": "cb5589c9",
   "metadata": {},
   "outputs": [],
   "source": [
    "#take input here\n",
    "import ast,sys\n",
    "data_list = ast.literal_eval(input())\n",
    "key=ast.literal_eval(input())\n",
    "\n",
    "\n",
    "#find the index of the key in data_list here\n",
    "\n",
    "def search(data_list, key):\n",
    " \n",
    "    for i in range(len(data_list)):\n",
    "        if data_list[i] == key:\n",
    "            return i\n",
    "    return -1\n",
    "\n",
    "res = search(data_list, key)\n",
    "print(res)\n",
    "\n"
   ]
  }
 ],
 "metadata": {
  "kernelspec": {
   "display_name": "Python 3 (ipykernel)",
   "language": "python",
   "name": "python3"
  },
  "language_info": {
   "codemirror_mode": {
    "name": "ipython",
    "version": 3
   },
   "file_extension": ".py",
   "mimetype": "text/x-python",
   "name": "python",
   "nbconvert_exporter": "python",
   "pygments_lexer": "ipython3",
   "version": "3.9.13"
  }
 },
 "nbformat": 4,
 "nbformat_minor": 5
}
